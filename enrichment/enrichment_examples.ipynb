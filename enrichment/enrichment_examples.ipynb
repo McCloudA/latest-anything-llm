{
 "cells": [
  {
   "attachments": {},
   "cell_type": "markdown",
   "metadata": {},
   "source": [
    "# New Enrichment code\n",
    "\n",
    "The new plan - screw ANythingLLM, just use as much space as we need in a GPT-4 prompt to answer our questions.\n",
    "\n",
    "So all this code does is the following:\n",
    " - Grab the jobs-database and look for all the jobs that don't have some of the following things:\n",
    "   - A \"re-enrich\" flag (if we don't have this, set a new one and make it \"true\".)\n",
    "   - The extracted-details of \"skills\" (a list of strings) (if we don't have this, pull the text and ask our GPT4 structures for it)\n",
    "   - The extracted-details of \"job_title\" (likewise, extract this)\n",
    "   - Required-certifications (same sort of thing, with whatever is absolutely required, like a degree or a professional cert.)\n",
    "   - If we place the last embedded piece in place (i.e. if we have just added something and all the pieces are now there), set re-encode to \"false\", indicating that we're done.\n",
    " - Do the same for people/the applicant database:\n",
    "   - Again, start with the re-enrich flag\n",
    "   - This one requires us to extract the text from resumes, but otherwise works the same, with skills, education, certifications, and work history.\n",
    "\n",
    "This code is intended to get us through this process first - when we're done, we should have everything we need to do the rest of the matching, in a nice structured format, in the database.\n",
    "\n",
    "\n",
    "After this is all done, we're going to do the following:\n",
    "  - Make another flag, this one called \"re-embed\", that we will first set to \"True\" if it isn't there already.\n",
    "  - If that flag is true, then construct a standardized narrative about the job/resume, like the following: \"The job title is <desired job/job title>.  This job is similar to other positions , like <last job the person had/repeat the job title>.  The required skills are <person's skills/job required skills>.\"\n",
    "  - If we just made that brief description, embed the person as person_<UID>, or the job as job_<UID>, in our vector DB.\n",
    "\n",
    "Finally, every day we will look at the records where the \"last_suggestions\" flag is older than a chosen threshold, or where it doesn't exist.  If so, we'll go to our vector DB, and ask for the nearest 50 or so records to that person, get all the jobs that meet the immutable stuff (need to do some location and certification cuts here), then kick out a latest \"recommended jobs\" file/DB that we can use to do the actual applications."
   ]
  },
  {
   "cell_type": "code",
   "execution_count": 6,
   "metadata": {},
   "outputs": [],
   "source": [
    "# TODO:\n",
    "# - make a nice way to turn all the flags back on so we can reconstruct everything as needed. (UI question?)\n",
    "# - split up the job recommender to make it also work with these new code structures, and with three settings: embed-all (run to update all the embeddings), embed-one, and recommend-one.\n",
    "# - maybe migrate from a local vector DB to pinecone\n",
    "# - cut down recommendations by desired locations, pay rate, etc."
   ]
  },
  {
   "cell_type": "code",
   "execution_count": null,
   "metadata": {},
   "outputs": [],
   "source": [
    "\n",
    "from __future__ import print_function\n",
    "from enrichment_lib import DataEnricher\n",
    "from jd_tools import CheekiFileHandler\n",
    "\n",
    "# sys.path.insert(1,'/home/frog/repos/latest-anything-llm')\n",
    "\n",
    "\n",
    "verbose_printing = True\n",
    "#re-enrich the records even if they're already enriched?\n",
    "jobs_override = False\n",
    "applicant_override = True\n",
    "\n",
    "# set up the various handlers we'll need:\n",
    "credentials_filename = \"./credentials.yml\"\n",
    "enricher = DataEnricher(credentials_filename)\n",
    "filehandler = CheekiFileHandler() # credentials_filename)"
   ]
  },
  {
   "attachments": {},
   "cell_type": "markdown",
   "metadata": {},
   "source": [
    "# Do the Job enrichment:"
   ]
  },
  {
   "cell_type": "code",
   "execution_count": null,
   "metadata": {},
   "outputs": [],
   "source": [
    "\n",
    "our_url = 'https:/otis.wd5.myworkdayjobs.com/REC_Ext_Gateway/job/36-IMP-EDOUARD-MOREAU-VILLEFRANCHE-69400-France/TECHNICIEN-SUPERIEUR-DE-MAINTENANCE_20076433'\n",
    "\n",
    "table_response = enricher.get_records('uid', our_url,'url',True) # can also ask for a 'frame', or 'all' records.\n",
    "\n",
    "if table_response is None or len(table_response)==0:\n",
    "    print('Error - no DB result.  Do you have the right record key/ID?')\n",
    "else:\n",
    "    for item in table_response: \n",
    "        uuid = item['uuid'] # can also use 'url'\n",
    "        print('Checking out job with uuid: ' , uuid)\n",
    "        # does this job not have the re-enrich flag, or is the re-enrich flag true?\n",
    "        reenrich_flag_value = item.get('reenrich_flag')\n",
    "        is_record_active = item.get('isActive')\n",
    "\n",
    "        if jobs_override or (is_record_active and ((reenrich_flag_value is None) or reenrich_flag_value==True)):\n",
    "            #after we're done here, don't need to do this again:\n",
    "            item['reenrich_flag'] = False\n",
    "            # Let's put all the pieces in there!\n",
    "            job_title = item.get('title')\n",
    "            job_desc = item.get('fullJobDescription')\n",
    "            print(job_desc)\n",
    "            #make the skills, and required credentials.\n",
    "            try:\n",
    "                item['job_skills_list'] = enricher.extract_job_skills_list(job_desc)\n",
    "                item['job_creds_list'] = enricher.extract_job_credentials_list(job_desc)\n",
    "                item['job_brief_desc'] = enricher.extract_job_brief_desc(job_desc)\n",
    "                item['embedded_description'] = enricher.create_embedding_description_job(item)\n",
    "                item['error_on_enrichment'] = False\n",
    "                item['reembed_flag'] = True # if this all works, we want this to join our job embeddings\n",
    "\n",
    "                if verbose_printing:\n",
    "                    print('Required Job Skills: ', item['job_skills_list'] )\n",
    "                    print('Required Job Credentials: ', item['job_creds_list'])\n",
    "                    print('Brief Job Description: ', item['job_brief_desc'])\n",
    "\n",
    "                #print(item['embedded_description'])\n",
    "                #stick it all back in if we want it in the DB\n",
    "                enricher.upload_item(item,True) # table.put_item(Item=item)\n",
    "                #Or we could make a local file to use for now.\n",
    "            except Exception as e:\n",
    "                print('Exception: ', e)\n",
    "                item['error_on_enrichment'] = True\n",
    "                item['reembed_flag'] = False\n",
    "            \n",
    "\n",
    "            if verbose_printing:\n",
    "                print('  ')\n",
    "                print('  ')\n",
    "                print('CHANGED ITEM::')\n",
    "                print(item)\n",
    "                print('  ')\n"
   ]
  },
  {
   "attachments": {},
   "cell_type": "markdown",
   "metadata": {},
   "source": [
    "# Do the Applicant Enrichment"
   ]
  },
  {
   "cell_type": "code",
   "execution_count": null,
   "metadata": {},
   "outputs": [],
   "source": [
    "our_id = 'c5cf56dc-566a-466c-8b32-d7551738589e'\n",
    "table_response = enricher.get_records('uid', our_id,'id',False) # can also ask for a 'frame', or 'all' records.\n",
    "\n",
    "if table_response is None or len(table_response)==0:\n",
    "    print('Error - no DB result.  Do you have the right record key/ID?')\n",
    "else:\n",
    "    for item in table_response: \n",
    "        id = item['id'] # can also use 'url'\n",
    "        print('Checking out user with id: ' , id)\n",
    "        # does this job not have the re-enrich flag, or is the re-enrich flag true?\n",
    "        reenrich_flag_value = item.get('reenrich_flag')\n",
    "        is_record_active = item.get('isInitialProfileFormCompleted')\n",
    "        print(is_record_active)\n",
    "        if  applicant_override or (is_record_active and ((reenrich_flag_value is None) or reenrich_flag_value==True)):\n",
    "            # after we're done here, don't need to do this again:\n",
    "            item['reenrich_flag'] = False\n",
    "            # Let's put all the pieces in there!\n",
    "            job_title = item.get('jobsWanted')\n",
    "            file_name = item.get('resumeFileName') \n",
    "            resume_text = None\n",
    "            print(file_name)\n",
    "            if file_name:\n",
    "                # now we need to see if there's a usable resume text:\n",
    "                resume_text = enricher.get_resume_text(item,filehandler)\n",
    "            if resume_text is None:\n",
    "                continue\n",
    "            try:\n",
    "                item['education'] = enricher.extract_education(resume_text)\n",
    "                item['workHistory'] = enricher.extract_workhistory(resume_text)\n",
    "                item['skills'] = enricher.extract_skills(resume_text)\n",
    "                address, city, state, zipcode = enricher.extract_address(resume_text)\n",
    "                item['address'] = address\n",
    "                item['city'] = city\n",
    "                item['state'] = state\n",
    "                item['zipcode'] = zipcode\n",
    "                item['embedded_description'] = enricher.create_embedding_description_applicant(item)\n",
    "                item['error_on_enrichment'] = False\n",
    "                item['reembed_flag'] = True # if this all works, we want this to join our job embeddings\n",
    "\n",
    "                if verbose_printing:\n",
    "                    print('Applicant Education: ', item['education'] )\n",
    "                    print('Applicant Work History: ', item['workHistory'] )\n",
    "                    print('Applicant Skills: ', item['skills'] )\n",
    "                    print('Applicant Full Address: ', address + ' ' + city + ', ' + state + ' ' + zipcode )\n",
    "\n",
    "                #stick it all back in if we want it in the DB\n",
    "                enricher.upload_item(item,False) # table.put_item(Item=item)\n",
    "                #Or we could make a local file to use for now.\n",
    "\n",
    "                print(item['embedded_description'])\n",
    "            except Exception as e:\n",
    "                print('Exception: ', e)\n",
    "                item['error_on_enrichment'] = True\n",
    "                item['reembed_flag'] = False\n",
    "            \n",
    "            if verbose_printing:\n",
    "                print('  ')\n",
    "                print('  ')\n",
    "                print('CHANGED ITEM::')\n",
    "                print(item)\n",
    "                print('  ')"
   ]
  },
  {
   "attachments": {},
   "cell_type": "markdown",
   "metadata": {},
   "source": [
    "# END OF CODE"
   ]
  },
  {
   "attachments": {},
   "cell_type": "markdown",
   "metadata": {},
   "source": [
    "# END OF CODE"
   ]
  }
 ],
 "metadata": {
  "kernelspec": {
   "display_name": "Python 3.8.10 64-bit",
   "language": "python",
   "name": "python3"
  },
  "language_info": {
   "codemirror_mode": {
    "name": "ipython",
    "version": 3
   },
   "file_extension": ".py",
   "mimetype": "text/x-python",
   "name": "python",
   "nbconvert_exporter": "python",
   "pygments_lexer": "ipython3",
   "version": "3.10.6"
  },
  "orig_nbformat": 4,
  "vscode": {
   "interpreter": {
    "hash": "31f2aee4e71d21fbe5cf8b01ff0e069b9275f58929596ceb00d14d90e3e16cd6"
   }
  }
 },
 "nbformat": 4,
 "nbformat_minor": 2
}
