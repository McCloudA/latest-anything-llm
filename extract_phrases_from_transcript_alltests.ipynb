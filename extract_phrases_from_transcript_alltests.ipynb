{
 "cells": [
  {
   "attachments": {},
   "cell_type": "markdown",
   "metadata": {},
   "source": [
    "# Example - Extract interesting parts from transcripts, emails etc.\n",
    "\n",
    "Here's what we're doing here:\n",
    " - Setting up an instance of AnythingLLM, on docker (https://github.com/Mintplex-Labs/anything-llm)\n",
    " - Filling the LLM \"hopper\" with all the data from an account (transcripts, emails, etc)\n",
    " - Adding these to the AnythingLLM \"hot\" directory to be embedded\n",
    " - Asking AnythingLLM to embed that file and keep it in the database for later\n",
    " - Asking AnythingLLM/OpenAI for details that should be in these documents, in particular when issues of interest were mentioned and where.\n",
    " - Returning all the examples of these things being mentioned.\n",
    "\n",
    "## Notes:  Ensure AnythingLLM is running on a docker instance: /usr/local/bin/docker-compose up -d --build\n",
    "\n",
    "## Remember, we need to have a persistent terminal running the following command that watches for file uploads:\n",
    "## sudo docker exec -it --workdir=/app/collector anything-llm python watch.py\n",
    "\n",
    "# TODO: \n",
    "The core algorithm should expect something like :\n",
    "A title to use to describe this thing (like \"Cost Concerns\" or \"competitor - snowflake\" or whatever)\n",
    "A list of strings corresponding to the thing (like ['this might be too expensive,' 'can we talk about overall cost, ...'])\n",
    "A switch for determining if this is meant to be an exact match to some of this stuff or if we're trying to match the overall concept/fuzzy-match\n",
    "An optional time frame to look for a second group in, to be delivered along with this one.\n",
    "And then basically to return an object where we can get all the examples of the concept happening....\n",
    "So do the following:\n",
    " - set up a json object for input, make a bunch of examples\n",
    " - make a nice csv file from parsing all the input files.\n",
    " - make a get_fuzzy function that gets all mentions, regexes those back out of the summary file and returns all the examples\n",
    " - make a get_exact function that does the same with regex. In both, return an object with a count and a set of stuff (can we add time?)\n",
    " - make an answer_questions manifold function that goes through as many questions as you have and returns a json object (or gives up) for each question/key."
   ]
  },
  {
   "cell_type": "code",
   "execution_count": 1,
   "metadata": {},
   "outputs": [],
   "source": [
    "from __future__ import print_function\n",
    "\n",
    "from transcript_helpers import TranscriptEmbedder\n",
    "import json\n",
    "import os\n",
    "import re\n",
    "\n",
    "import requests\n",
    "import json\n",
    "\n",
    "import shutil\n",
    "\n",
    "# where the text files are\n",
    "anythingllm_summarydir = '/home/sean/repos/playground/sean/transcript_extraction'\n",
    "# where AnythingLLM is installed\n",
    "anythingllm_rootdir = '/home/sean/repos/anything-llm'\n",
    "\n",
    "# the new domain name to construct\n",
    "tenant_name = 'test_tenant_3'\n",
    "# files we'd like to include in this new domain\n",
    "files_to_encode = ['./avoma_transcript_3.txt','./avoma_transcript_4.txt']\n",
    "\n",
    "\n"
   ]
  },
  {
   "attachments": {},
   "cell_type": "markdown",
   "metadata": {},
   "source": [
    "## Remember, we need to have a persistent terminal running the following command that watches for file uploads:\n",
    "## sudo docker exec -it --workdir=/app/collector anything-llm python watch.py"
   ]
  },
  {
   "cell_type": "code",
   "execution_count": 2,
   "metadata": {},
   "outputs": [
    {
     "name": "stdout",
     "output_type": "stream",
     "text": [
      "copying:  /home/sean/repos/playground/sean/transcript_extraction/avoma_transcript_3.txt\n",
      "to:  /home/sean/repos/anything-llm/collector/hotdir\n",
      "/home/sean/repos/anything-llm/collector/hotdir/avoma_transcript_3.txt\n",
      "File Successfully Embedded.\n",
      "copying:  /home/sean/repos/playground/sean/transcript_extraction/avoma_transcript_4.txt\n",
      "to:  /home/sean/repos/anything-llm/collector/hotdir\n",
      "/home/sean/repos/anything-llm/collector/hotdir/avoma_transcript_4.txt\n",
      "File Successfully Embedded.\n",
      "POST request successful.\n",
      "Response Content: {\"workspace\":{\"id\":4,\"name\":\"test_tenant_3\",\"slug\":\"test_tenant_3-58562327\",\"vectorTag\":null,\"createdAt\":\"2023-06-24 07:28:54\",\"openAiTemp\":null,\"lastUpdatedAt\":\"2023-06-24 07:28:54\"},\"message\":null}\n",
      "Status Code: 200\n",
      "Headers: {'X-Powered-By': 'Express', 'Vary': 'Origin', 'Content-Type': 'application/json; charset=utf-8', 'Content-Length': '199', 'ETag': 'W/\"c7-/4jds3UBSYr+i48x+GX9A5s/07E\"', 'Date': 'Sat, 24 Jun 2023 07:28:54 GMT', 'Connection': 'keep-alive', 'Keep-Alive': 'timeout=5'}\n",
      "Content-Type Header: application/json; charset=utf-8\n",
      "Keeping files: \n",
      "['avoma-transcript-3-10630ced-6792-4f62-ace0-a4368b2beec6.json', 'avoma-transcript-3-55eea868-4367-4b03-8ba1-f23915133065.json', 'avoma-transcript-3-5d9da993-5297-4b86-978d-c66e58ada4b3.json', 'avoma-transcript-3-5dfd982a-9605-4a18-af82-cf29400a7357.json', 'avoma-transcript-4-6c5c7788-6bfc-46cb-8d15-43a228c78ea0.json', 'avoma-transcript-4-a701da40-096a-4cad-9f66-81f60eecf478.json', 'avoma-transcript-4-bc6c21eb-758c-478e-9183-b0c6e92d84d3.json']\n",
      "{\"adds\": [\"custom-documents/avoma-transcript-3-10630ced-6792-4f62-ace0-a4368b2beec6.json\"]}\n",
      "POST request successful.\n",
      "{\"adds\": [\"custom-documents/avoma-transcript-3-55eea868-4367-4b03-8ba1-f23915133065.json\"]}\n",
      "POST request successful.\n",
      "{\"adds\": [\"custom-documents/avoma-transcript-3-5d9da993-5297-4b86-978d-c66e58ada4b3.json\"]}\n",
      "POST request successful.\n",
      "{\"adds\": [\"custom-documents/avoma-transcript-3-5dfd982a-9605-4a18-af82-cf29400a7357.json\"]}\n",
      "POST request successful.\n",
      "{\"adds\": [\"custom-documents/avoma-transcript-4-6c5c7788-6bfc-46cb-8d15-43a228c78ea0.json\"]}\n",
      "POST request successful.\n",
      "{\"adds\": [\"custom-documents/avoma-transcript-4-a701da40-096a-4cad-9f66-81f60eecf478.json\"]}\n",
      "POST request successful.\n",
      "{\"adds\": [\"custom-documents/avoma-transcript-4-bc6c21eb-758c-478e-9183-b0c6e92d84d3.json\"]}\n",
      "POST request successful.\n",
      "Response Content: {\"workspace\":{\"id\":2,\"name\":\"test_tenant_3\",\"slug\":\"test_tenant_3\",\"vectorTag\":null,\"createdAt\":\"2023-06-22 20:25:40\",\"openAiTemp\":null,\"lastUpdatedAt\":\"2023-06-22 20:25:40\",\"documents\":[{\"id\":7,\"docId\":\"9a8f9462-c80b-4c05-82ec-b2e2db92007f\",\"filename\":\"avoma-transcript-3-5d9da993-5297-4b86-978d-c66e58ada4b3.json\",\"docpath\":\"custom-documents/avoma-transcript-3-5d9da993-5297-4b86-978d-c66e58ada4b3.json\",\"workspaceId\":2,\"metadata\":\"{\\\"id\\\":\\\"5d9da993-5297-4b86-978d-c66e58ada4b3\\\",\\\"url\\\":\\\"file:///app/collector/hotdir/processed/avoma_transcript_3.txt\\\",\\\"title\\\":\\\"avoma_transcript_3.txt\\\",\\\"description\\\":\\\"a custom file uploaded by the user.\\\",\\\"published\\\":\\\"2023-06-22 20:25:22\\\",\\\"wordCount\\\":45537,\\\"token_count_estimate\\\":12051}\",\"createdAt\":\"2023-06-22 20:26:09\",\"lastUpdatedAt\":\"2023-06-22 20:26:09\"},{\"id\":8,\"docId\":\"c7e025fa-3184-4e81-8a74-6d571091772b\",\"filename\":\"avoma-transcript-4-bc6c21eb-758c-478e-9183-b0c6e92d84d3.json\",\"docpath\":\"custom-documents/avoma-transcript-4-bc6c21eb-758c-478e-9183-b0c6e92d84d3.json\",\"workspaceId\":2,\"metadata\":\"{\\\"id\\\":\\\"bc6c21eb-758c-478e-9183-b0c6e92d84d3\\\",\\\"url\\\":\\\"file:///app/collector/hotdir/processed/avoma_transcript_4.txt\\\",\\\"title\\\":\\\"avoma_transcript_4.txt\\\",\\\"description\\\":\\\"a custom file uploaded by the user.\\\",\\\"published\\\":\\\"2023-06-22 20:25:22\\\",\\\"wordCount\\\":35622,\\\"token_count_estimate\\\":9353}\",\"createdAt\":\"2023-06-22 20:26:29\",\"lastUpdatedAt\":\"2023-06-22 20:26:29\"},{\"id\":9,\"docId\":\"0976a674-100f-4ac3-924c-50714255d89e\",\"filename\":\"avoma-transcript-3-10630ced-6792-4f62-ace0-a4368b2beec6.json\",\"docpath\":\"custom-documents/avoma-transcript-3-10630ced-6792-4f62-ace0-a4368b2beec6.json\",\"workspaceId\":2,\"metadata\":\"{\\\"id\\\":\\\"10630ced-6792-4f62-ace0-a4368b2beec6\\\",\\\"url\\\":\\\"file:///app/collector/hotdir/processed/avoma_transcript_3.txt\\\",\\\"title\\\":\\\"avoma_transcript_3.txt\\\",\\\"description\\\":\\\"a custom file uploaded by the user.\\\",\\\"published\\\":\\\"2023-06-24 07:28:50\\\",\\\"wordCount\\\":45537,\\\"token_count_estimate\\\":12051}\",\"createdAt\":\"2023-06-24 07:29:14\",\"lastUpdatedAt\":\"2023-06-24 07:29:14\"},{\"id\":10,\"docId\":\"d1039d73-b233-4fa3-8ebf-ddf2688dc511\",\"filename\":\"avoma-transcript-3-55eea868-4367-4b03-8ba1-f23915133065.json\",\"docpath\":\"custom-documents/avoma-transcript-3-55eea868-4367-4b03-8ba1-f23915133065.json\",\"workspaceId\":2,\"metadata\":\"{\\\"id\\\":\\\"55eea868-4367-4b03-8ba1-f23915133065\\\",\\\"url\\\":\\\"file:///app/collector/hotdir/processed/avoma_transcript_3.txt\\\",\\\"title\\\":\\\"avoma_transcript_3.txt\\\",\\\"description\\\":\\\"a custom file uploaded by the user.\\\",\\\"published\\\":\\\"2023-06-24 07:25:31\\\",\\\"wordCount\\\":45537,\\\"token_count_estimate\\\":12051}\",\"createdAt\":\"2023-06-24 07:29:32\",\"lastUpdatedAt\":\"2023-06-24 07:29:32\"},{\"id\":11,\"docId\":\"31687fc3-c022-4944-80b8-5916dc6c49a0\",\"filename\":\"avoma-transcript-3-5d9da993-5297-4b86-978d-c66e58ada4b3.json\",\"docpath\":\"custom-documents/avoma-transcript-3-5d9da993-5297-4b86-978d-c66e58ada4b3.json\",\"workspaceId\":2,\"metadata\":\"{\\\"id\\\":\\\"5d9da993-5297-4b86-978d-c66e58ada4b3\\\",\\\"url\\\":\\\"file:///app/collector/hotdir/processed/avoma_transcript_3.txt\\\",\\\"title\\\":\\\"avoma_transcript_3.txt\\\",\\\"description\\\":\\\"a custom file uploaded by the user.\\\",\\\"published\\\":\\\"2023-06-22 20:25:22\\\",\\\"wordCount\\\":45537,\\\"token_count_estimate\\\":12051}\",\"createdAt\":\"2023-06-24 07:29:32\",\"lastUpdatedAt\":\"2023-06-24 07:29:32\"},{\"id\":12,\"docId\":\"47e67ee0-e26c-4025-b6e4-4a874814f3fd\",\"filename\":\"avoma-transcript-3-5dfd982a-9605-4a18-af82-cf29400a7357.json\",\"docpath\":\"custom-documents/avoma-transcript-3-5dfd982a-9605-4a18-af82-cf29400a7357.json\",\"workspaceId\":2,\"metadata\":\"{\\\"id\\\":\\\"5dfd982a-9605-4a18-af82-cf29400a7357\\\",\\\"url\\\":\\\"file:///app/collector/hotdir/processed/avoma_transcript_3.txt\\\",\\\"title\\\":\\\"avoma_transcript_3.txt\\\",\\\"description\\\":\\\"a custom file uploaded by the user.\\\",\\\"published\\\":\\\"2023-06-24 07:27:05\\\",\\\"wordCount\\\":45537,\\\"token_count_estimate\\\":12051}\",\"createdAt\":\"2023-06-24 07:29:50\",\"lastUpdatedAt\":\"2023-06-24 07:29:50\"},{\"id\":13,\"docId\":\"bb0580d9-96e0-439a-ac96-14b535059af6\",\"filename\":\"avoma-transcript-4-6c5c7788-6bfc-46cb-8d15-43a228c78ea0.json\",\"docpath\":\"custom-documents/avoma-transcript-4-6c5c7788-6bfc-46cb-8d15-43a228c78ea0.json\",\"workspaceId\":2,\"metadata\":\"{\\\"id\\\":\\\"6c5c7788-6bfc-46cb-8d15-43a228c78ea0\\\",\\\"url\\\":\\\"file:///app/collector/hotdir/processed/avoma_transcript_4.txt\\\",\\\"title\\\":\\\"avoma_transcript_4.txt\\\",\\\"description\\\":\\\"a custom file uploaded by the user.\\\",\\\"published\\\":\\\"2023-06-24 07:28:53\\\",\\\"wordCount\\\":35622,\\\"token_count_estimate\\\":9353}\",\"createdAt\":\"2023-06-24 07:30:02\",\"lastUpdatedAt\":\"2023-06-24 07:30:02\"},{\"id\":14,\"docId\":\"c56b42aa-f699-4045-8522-6b4dde22c830\",\"filename\":\"avoma-transcript-4-a701da40-096a-4cad-9f66-81f60eecf478.json\",\"docpath\":\"custom-documents/avoma-transcript-4-a701da40-096a-4cad-9f66-81f60eecf478.json\",\"workspaceId\":2,\"metadata\":\"{\\\"id\\\":\\\"a701da40-096a-4cad-9f66-81f60eecf478\\\",\\\"url\\\":\\\"file:///app/collector/hotdir/processed/avoma_transcript_4.txt\\\",\\\"title\\\":\\\"avoma_transcript_4.txt\\\",\\\"description\\\":\\\"a custom file uploaded by the user.\\\",\\\"published\\\":\\\"2023-06-24 07:27:08\\\",\\\"wordCount\\\":35622,\\\"token_count_estimate\\\":9353}\",\"createdAt\":\"2023-06-24 07:30:15\",\"lastUpdatedAt\":\"2023-06-24 07:30:15\"},{\"id\":15,\"docId\":\"8049a597-adb8-4f1f-b9f0-b8e31c49c1a8\",\"filename\":\"avoma-transcript-4-bc6c21eb-758c-478e-9183-b0c6e92d84d3.json\",\"docpath\":\"custom-documents/avoma-transcript-4-bc6c21eb-758c-478e-9183-b0c6e92d84d3.json\",\"workspaceId\":2,\"metadata\":\"{\\\"id\\\":\\\"bc6c21eb-758c-478e-9183-b0c6e92d84d3\\\",\\\"url\\\":\\\"file:///app/collector/hotdir/processed/avoma_transcript_4.txt\\\",\\\"title\\\":\\\"avoma_transcript_4.txt\\\",\\\"description\\\":\\\"a custom file uploaded by the user.\\\",\\\"published\\\":\\\"2023-06-22 20:25:22\\\",\\\"wordCount\\\":35622,\\\"token_count_estimate\\\":9353}\",\"createdAt\":\"2023-06-24 07:30:15\",\"lastUpdatedAt\":\"2023-06-24 07:30:15\"}]}}\n",
      "Status Code: 200\n",
      "Headers: {'X-Powered-By': 'Express', 'Vary': 'Origin', 'Content-Type': 'application/json; charset=utf-8', 'Content-Length': '5834', 'ETag': 'W/\"16ca-4yCFX1GsssAC0HNKqtSpyGp1eCs\"', 'Date': 'Sat, 24 Jun 2023 07:30:15 GMT', 'Connection': 'keep-alive', 'Keep-Alive': 'timeout=5'}\n",
      "Content-Type Header: application/json; charset=utf-8\n"
     ]
    },
    {
     "data": {
      "text/plain": [
       "'/home/sean/repos/playground/sean/transcript_extraction/test_tenant_3_sumfile.csv'"
      ]
     },
     "execution_count": 2,
     "metadata": {},
     "output_type": "execute_result"
    }
   ],
   "source": [
    "embedded_documents = TranscriptEmbedder()\n",
    "\n",
    "# To set this up the first time\n",
    "embedded_documents.set_up_by_filelist(files_to_encode,tenant_name,anythingllm_summarydir,anythingllm_rootdir)\n",
    "\n",
    "# Subsequent times we'd like to address this person/tenant/domain again:\n",
    "#embedded_documents.set_up_by_domain_name(tenant_name,anythingllm_summarydir,anythingllm_rootdir)\n"
   ]
  },
  {
   "attachments": {},
   "cell_type": "markdown",
   "metadata": {},
   "source": [
    "# Test Queries"
   ]
  },
  {
   "cell_type": "code",
   "execution_count": 3,
   "metadata": {},
   "outputs": [
    {
     "name": "stdout",
     "output_type": "stream",
     "text": [
      "POST request successful.\n",
      "Response Content: {\"id\":\"65746e7f-dcaa-41dc-bae5-506572f77166\",\"type\":\"textResponse\",\"textResponse\":\"[\\n{\\n    \\\"speaker_name\\\": \\\"Ashley Saville\\\",\\n    \\\"conversation_text\\\": \\\"This is good to good to know and good to help us think about you know, from a cost perspective and from a a time to value implementation perspective of of getting the report solved, the report challenges solved\\\"\\n},\\n{\\n    \\\"speaker_name\\\": \\\"Mona Akmal\\\",\\n    \\\"conversation_text\\\": \\\"Oh, no. The sales team doesn't let we talk about pricing at all because I would give everything for free, but we don't live in Correct.\\\"\\n}]\",\"sources\":[{\"description\":\"a custom file uploaded by the user.\",\"id\":\"bc6c21eb-758c-478e-9183-b0c6e92d84d3\",\"published\":\"2023-06-22 20:25:22\",\"title\":\"avoma_transcript_4.txt\",\"token_count_estimate\":9353,\"url\":\"file:///app/collector/hotdir/processed/avoma_transcript_4.txt\",\"wordCount\":35622},{\"description\":\"a custom file uploaded by the user.\",\"id\":\"5dfd982a-9605-4a18-af82-cf29400a7357\",\"published\":\"2023-06-24 07:27:05\",\"title\":\"avoma_transcript_3.txt\",\"token_count_estimate\":12051,\"url\":\"file:///app/collector/hotdir/processed/avoma_transcript_3.txt\",\"wordCount\":45537}],\"close\":true,\"error\":false}\n",
      "Status Code: 200\n",
      "Headers: {'X-Powered-By': 'Express', 'Vary': 'Origin', 'Content-Type': 'application/json; charset=utf-8', 'Content-Length': '1195', 'ETag': 'W/\"4ab-KrCDVzdcEiZtt+oFc63ppJH+/gQ\"', 'Date': 'Sat, 24 Jun 2023 07:31:15 GMT', 'Connection': 'keep-alive', 'Keep-Alive': 'timeout=5'}\n",
      "Content-Type Header: application/json; charset=utf-8\n"
     ]
    },
    {
     "data": {
      "text/plain": [
       "'[\\n{\\n    \"speaker_name\": \"Ashley Saville\",\\n    \"conversation_text\": \"This is good to good to know and good to help us think about you know, from a cost perspective and from a a time to value implementation perspective of of getting the report solved, the report challenges solved\"\\n},\\n{\\n    \"speaker_name\": \"Mona Akmal\",\\n    \"conversation_text\": \"Oh, no. The sales team doesn\\'t let we talk about pricing at all because I would give everything for free, but we don\\'t live in Correct.\"\\n}]'"
      ]
     },
     "execution_count": 3,
     "metadata": {},
     "output_type": "execute_result"
    }
   ],
   "source": [
    "embedded_documents.return_fuzzy_mentions('The cost of the service')\n"
   ]
  }
 ],
 "metadata": {
  "kernelspec": {
   "display_name": "Python 3.8.10 64-bit",
   "language": "python",
   "name": "python3"
  },
  "language_info": {
   "codemirror_mode": {
    "name": "ipython",
    "version": 3
   },
   "file_extension": ".py",
   "mimetype": "text/x-python",
   "name": "python",
   "nbconvert_exporter": "python",
   "pygments_lexer": "ipython3",
   "version": "3.9.12"
  },
  "orig_nbformat": 4,
  "vscode": {
   "interpreter": {
    "hash": "31f2aee4e71d21fbe5cf8b01ff0e069b9275f58929596ceb00d14d90e3e16cd6"
   }
  }
 },
 "nbformat": 4,
 "nbformat_minor": 2
}
