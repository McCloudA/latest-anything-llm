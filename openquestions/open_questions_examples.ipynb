{
 "cells": [
  {
   "attachments": {},
   "cell_type": "markdown",
   "metadata": {},
   "source": [
    "# New \"Open Questions\" code\n",
    "\n",
    "The new plan - screw ANythingLLM, just use as much space as we need in a GPT-4 prompt to answer our questions.\n",
    "\n",
    "So all this code does is the following:\n",
    " - Grab the people/applicant database:\n",
    "   - Take in a desired person and a question that is on a job application\n",
    "   - get that person's specific brief-form summary\n",
    "   - use that summary to produce an answer"
   ]
  },
  {
   "cell_type": "code",
   "execution_count": 1,
   "metadata": {},
   "outputs": [],
   "source": [
    "from __future__ import print_function\n",
    "import sys\n",
    "\n",
    "# sys.path.insert(1,'/home/frog/repos/latest-anything-llm')\n",
    "sys.path.insert(1,'/home/frog/repos/latest-anything-llm/enrichment')\n",
    "from enrichment_lib import DataEnricher\n",
    "\n",
    "# set up the various handlers we'll need:\n",
    "credentials_filename = \"../enrichment/credentials.yml\"\n",
    "enricher = DataEnricher(credentials_filename)"
   ]
  },
  {
   "cell_type": "code",
   "execution_count": 2,
   "metadata": {},
   "outputs": [
    {
     "name": "stdout",
     "output_type": "stream",
     "text": [
      "211  tokens, using model:  gpt-3.5-turbo\n",
      "Using Model:  gpt-3.5-turbo\n"
     ]
    },
    {
     "data": {
      "text/plain": [
       "'In my opinion, what makes me a good project manager is my ability to effectively coordinate and delegate tasks, ensuring efficient project execution and timely delivery. I have a strong understanding of various marketing tools and platforms, such as Drupal, HubSpot, and Google AdWords, which enables me to oversee projects across multiple channels. With my extensive educational background in marketing, along with my experience in different marketing roles, I possess a strategic mindset that allows me to analyze data and make informed decisions for successful project outcomes.'"
      ]
     },
     "execution_count": 2,
     "metadata": {},
     "output_type": "execute_result"
    }
   ],
   "source": [
    "our_id = 'c5cf56dc-566a-466c-8b32-d7551738589e'\n",
    "our_question = 'what, in your opinion, makes you a good project manager?'\n",
    "\n",
    "table_response = enricher.get_records('uid', our_id,'id',False) # can also ask for a 'frame', or 'all' records.\n",
    "\n",
    "if table_response is None or len(table_response)==0:\n",
    "    print('Error - no DB result.  Do you have the right record key/ID?')\n",
    "else:\n",
    "    applicant_summary = table_response[0].get('embedded_description')\n",
    "    if applicant_summary is None:\n",
    "        print('No Applicant Summary Exists.  Is this person enriched by our system?')\n",
    "    else:\n",
    "        answer = enricher.answer_open_question(applicant_summary,our_question)\n",
    "\n",
    "answer"
   ]
  },
  {
   "attachments": {},
   "cell_type": "markdown",
   "metadata": {},
   "source": [
    "# END OF CODE"
   ]
  },
  {
   "attachments": {},
   "cell_type": "markdown",
   "metadata": {},
   "source": [
    "# END OF CODE"
   ]
  }
 ],
 "metadata": {
  "kernelspec": {
   "display_name": "Python 3.8.10 64-bit",
   "language": "python",
   "name": "python3"
  },
  "language_info": {
   "codemirror_mode": {
    "name": "ipython",
    "version": 3
   },
   "file_extension": ".py",
   "mimetype": "text/x-python",
   "name": "python",
   "nbconvert_exporter": "python",
   "pygments_lexer": "ipython3",
   "version": "3.10.6"
  },
  "orig_nbformat": 4,
  "vscode": {
   "interpreter": {
    "hash": "31f2aee4e71d21fbe5cf8b01ff0e069b9275f58929596ceb00d14d90e3e16cd6"
   }
  }
 },
 "nbformat": 4,
 "nbformat_minor": 2
}
